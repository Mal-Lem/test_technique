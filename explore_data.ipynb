{
 "cells": [
  {
   "cell_type": "code",
   "execution_count": 99,
   "id": "aebdbe21",
   "metadata": {},
   "outputs": [],
   "source": [
    "import pandas as pd\n",
    "import csv"
   ]
  },
  {
   "cell_type": "code",
   "execution_count": 100,
   "id": "c30af65e",
   "metadata": {},
   "outputs": [],
   "source": [
    "url = \"../data/100-songs-audience-report.csv\""
   ]
  },
  {
   "cell_type": "code",
   "execution_count": 101,
   "id": "0346be4d",
   "metadata": {},
   "outputs": [],
   "source": [
    "with open(url, encoding='utf-8') as f:\n",
    "    reader = csv.reader(f)\n",
    "    lignes = list(reader)"
   ]
  },
  {
   "cell_type": "code",
   "execution_count": 102,
   "id": "f87a4287",
   "metadata": {},
   "outputs": [],
   "source": [
    "header = lignes[0]\n",
    "data = lignes[1:]\n",
    "df = pd.DataFrame(data, columns=header)"
   ]
  },
  {
   "cell_type": "code",
   "execution_count": 103,
   "id": "478a63f6",
   "metadata": {},
   "outputs": [
    {
     "data": {
      "text/html": [
       "<div>\n",
       "<style scoped>\n",
       "    .dataframe tbody tr th:only-of-type {\n",
       "        vertical-align: middle;\n",
       "    }\n",
       "\n",
       "    .dataframe tbody tr th {\n",
       "        vertical-align: top;\n",
       "    }\n",
       "\n",
       "    .dataframe thead th {\n",
       "        text-align: right;\n",
       "    }\n",
       "</style>\n",
       "<table border=\"1\" class=\"dataframe\">\n",
       "  <thead>\n",
       "    <tr style=\"text-align: right;\">\n",
       "      <th></th>\n",
       "      <th>1\\tsong_id</th>\n",
       "      <th>title</th>\n",
       "      <th>artist</th>\n",
       "      <th>release_date</th>\n",
       "      <th>image_url</th>\n",
       "      <th>timeSeries</th>\n",
       "      <th>summaries</th>\n",
       "    </tr>\n",
       "  </thead>\n",
       "  <tbody>\n",
       "    <tr>\n",
       "      <th>0</th>\n",
       "      <td>2\\t3792d35a-7139-4a51-b479-c62b4fc0eeaf</td>\n",
       "      <td>Backtrack</td>\n",
       "      <td>Pierre-François Blanchard &amp; Thomas Savy</td>\n",
       "      <td>2024-02-02T00:00:00+00:00</td>\n",
       "      <td>https://assets.soundcharts.com/song/9/3/1/3792...</td>\n",
       "      <td>[{\"date\": \"2024-04-29T00:00:00+00:00\", \"spotif...</td>\n",
       "      <td>{\"spotify-streams\": {\"value\": 3949, \"metric\": ...</td>\n",
       "    </tr>\n",
       "    <tr>\n",
       "      <th>1</th>\n",
       "      <td>3\\t1655ec20-f054-4a27-936a-4adf93af347c</td>\n",
       "      <td>Foreshadow</td>\n",
       "      <td>Pierre-François Blanchard &amp; Thomas Savy</td>\n",
       "      <td>2024-02-02T00:00:00+00:00</td>\n",
       "      <td>https://assets.soundcharts.com/song/4/5/0/1655...</td>\n",
       "      <td>[{\"date\": \"2024-04-29T00:00:00+00:00\", \"spotif...</td>\n",
       "      <td>{\"spotify-streams\": {\"value\": 1067, \"metric\": ...</td>\n",
       "    </tr>\n",
       "    <tr>\n",
       "      <th>2</th>\n",
       "      <td>4\\td8a3791a-1f2a-41a6-8000-8125004975fa</td>\n",
       "      <td>Lullaby for Freedom</td>\n",
       "      <td>Pierre-François Blanchard &amp; Thomas Savy</td>\n",
       "      <td>2024-02-02T00:00:00+00:00</td>\n",
       "      <td>https://assets.soundcharts.com/song/a/2/f/d8a3...</td>\n",
       "      <td>[{\"date\": \"2024-04-29T00:00:00+00:00\", \"spotif...</td>\n",
       "      <td>{\"spotify-streams\": {\"value\": 1230, \"metric\": ...</td>\n",
       "    </tr>\n",
       "    <tr>\n",
       "      <th>3</th>\n",
       "      <td>5\\t9b773d19-3bc4-4c16-b831-5793d39b9e46</td>\n",
       "      <td>Afterglow</td>\n",
       "      <td>Pierre-François Blanchard</td>\n",
       "      <td>2024-02-02T00:00:00+00:00</td>\n",
       "      <td>https://assets.soundcharts.com/song/4/c/b/9b77...</td>\n",
       "      <td>[{\"date\": \"2024-04-29T00:00:00+00:00\", \"spotif...</td>\n",
       "      <td>{\"spotify-streams\": {\"value\": 1207, \"metric\": ...</td>\n",
       "    </tr>\n",
       "    <tr>\n",
       "      <th>4</th>\n",
       "      <td>6\\t6447b5a2-c495-4b6b-b867-2c38b842b9ed</td>\n",
       "      <td>Tempêtes</td>\n",
       "      <td>Pierre-François Blanchard &amp; Thomas Savy</td>\n",
       "      <td>2024-02-02T00:00:00+00:00</td>\n",
       "      <td>https://assets.soundcharts.com/song/5/9/4/6447...</td>\n",
       "      <td>[{\"date\": \"2024-04-29T00:00:00+00:00\", \"spotif...</td>\n",
       "      <td>{\"spotify-streams\": {\"value\": 2011, \"metric\": ...</td>\n",
       "    </tr>\n",
       "  </tbody>\n",
       "</table>\n",
       "</div>"
      ],
      "text/plain": [
       "                                     1\\tsong_id                title  \\\n",
       "0       2\\t3792d35a-7139-4a51-b479-c62b4fc0eeaf            Backtrack   \n",
       "1       3\\t1655ec20-f054-4a27-936a-4adf93af347c           Foreshadow   \n",
       "2       4\\td8a3791a-1f2a-41a6-8000-8125004975fa  Lullaby for Freedom   \n",
       "3       5\\t9b773d19-3bc4-4c16-b831-5793d39b9e46            Afterglow   \n",
       "4       6\\t6447b5a2-c495-4b6b-b867-2c38b842b9ed             Tempêtes   \n",
       "\n",
       "                                    artist               release_date  \\\n",
       "0  Pierre-François Blanchard & Thomas Savy  2024-02-02T00:00:00+00:00   \n",
       "1  Pierre-François Blanchard & Thomas Savy  2024-02-02T00:00:00+00:00   \n",
       "2  Pierre-François Blanchard & Thomas Savy  2024-02-02T00:00:00+00:00   \n",
       "3                Pierre-François Blanchard  2024-02-02T00:00:00+00:00   \n",
       "4  Pierre-François Blanchard & Thomas Savy  2024-02-02T00:00:00+00:00   \n",
       "\n",
       "                                           image_url  \\\n",
       "0  https://assets.soundcharts.com/song/9/3/1/3792...   \n",
       "1  https://assets.soundcharts.com/song/4/5/0/1655...   \n",
       "2  https://assets.soundcharts.com/song/a/2/f/d8a3...   \n",
       "3  https://assets.soundcharts.com/song/4/c/b/9b77...   \n",
       "4  https://assets.soundcharts.com/song/5/9/4/6447...   \n",
       "\n",
       "                                          timeSeries  \\\n",
       "0  [{\"date\": \"2024-04-29T00:00:00+00:00\", \"spotif...   \n",
       "1  [{\"date\": \"2024-04-29T00:00:00+00:00\", \"spotif...   \n",
       "2  [{\"date\": \"2024-04-29T00:00:00+00:00\", \"spotif...   \n",
       "3  [{\"date\": \"2024-04-29T00:00:00+00:00\", \"spotif...   \n",
       "4  [{\"date\": \"2024-04-29T00:00:00+00:00\", \"spotif...   \n",
       "\n",
       "                                           summaries  \n",
       "0  {\"spotify-streams\": {\"value\": 3949, \"metric\": ...  \n",
       "1  {\"spotify-streams\": {\"value\": 1067, \"metric\": ...  \n",
       "2  {\"spotify-streams\": {\"value\": 1230, \"metric\": ...  \n",
       "3  {\"spotify-streams\": {\"value\": 1207, \"metric\": ...  \n",
       "4  {\"spotify-streams\": {\"value\": 2011, \"metric\": ...  "
      ]
     },
     "execution_count": 103,
     "metadata": {},
     "output_type": "execute_result"
    }
   ],
   "source": [
    "df.head()"
   ]
  },
  {
   "cell_type": "code",
   "execution_count": 104,
   "id": "173d3908",
   "metadata": {},
   "outputs": [],
   "source": [
    "df_copy = df.copy()"
   ]
  },
  {
   "cell_type": "code",
   "execution_count": 105,
   "id": "68abfa54",
   "metadata": {},
   "outputs": [],
   "source": [
    "df.iloc[:, 0] = df.iloc[:, 0].str.split('\\t').str[1]"
   ]
  },
  {
   "cell_type": "code",
   "execution_count": 106,
   "id": "a35aec4b",
   "metadata": {},
   "outputs": [],
   "source": [
    "df.columns = [col.split('\\t')[-1] for col in df.columns]"
   ]
  },
  {
   "cell_type": "code",
   "execution_count": 107,
   "id": "bc180b99",
   "metadata": {},
   "outputs": [
    {
     "data": {
      "text/plain": [
       "(12320, 7)"
      ]
     },
     "execution_count": 107,
     "metadata": {},
     "output_type": "execute_result"
    }
   ],
   "source": [
    "df.shape"
   ]
  },
  {
   "cell_type": "code",
   "execution_count": 108,
   "id": "1584b1a2",
   "metadata": {},
   "outputs": [
    {
     "name": "stdout",
     "output_type": "stream",
     "text": [
      "<class 'pandas.core.frame.DataFrame'>\n",
      "RangeIndex: 12320 entries, 0 to 12319\n",
      "Data columns (total 7 columns):\n",
      " #   Column        Non-Null Count  Dtype \n",
      "---  ------        --------------  ----- \n",
      " 0   song_id       12320 non-null  object\n",
      " 1   title         12320 non-null  object\n",
      " 2   artist        12320 non-null  object\n",
      " 3   release_date  12320 non-null  object\n",
      " 4   image_url     12320 non-null  object\n",
      " 5   timeSeries    12320 non-null  object\n",
      " 6   summaries     12319 non-null  object\n",
      "dtypes: object(7)\n",
      "memory usage: 673.9+ KB\n"
     ]
    }
   ],
   "source": [
    "df.info()"
   ]
  },
  {
   "cell_type": "code",
   "execution_count": 109,
   "id": "f127b80f",
   "metadata": {},
   "outputs": [
    {
     "data": {
      "text/html": [
       "<div>\n",
       "<style scoped>\n",
       "    .dataframe tbody tr th:only-of-type {\n",
       "        vertical-align: middle;\n",
       "    }\n",
       "\n",
       "    .dataframe tbody tr th {\n",
       "        vertical-align: top;\n",
       "    }\n",
       "\n",
       "    .dataframe thead th {\n",
       "        text-align: right;\n",
       "    }\n",
       "</style>\n",
       "<table border=\"1\" class=\"dataframe\">\n",
       "  <thead>\n",
       "    <tr style=\"text-align: right;\">\n",
       "      <th></th>\n",
       "      <th>song_id</th>\n",
       "      <th>title</th>\n",
       "      <th>artist</th>\n",
       "      <th>release_date</th>\n",
       "      <th>image_url</th>\n",
       "      <th>timeSeries</th>\n",
       "      <th>summaries</th>\n",
       "    </tr>\n",
       "  </thead>\n",
       "  <tbody>\n",
       "    <tr>\n",
       "      <th>0</th>\n",
       "      <td>3792d35a-7139-4a51-b479-c62b4fc0eeaf</td>\n",
       "      <td>Backtrack</td>\n",
       "      <td>Pierre-François Blanchard &amp; Thomas Savy</td>\n",
       "      <td>2024-02-02T00:00:00+00:00</td>\n",
       "      <td>https://assets.soundcharts.com/song/9/3/1/3792...</td>\n",
       "      <td>[{\"date\": \"2024-04-29T00:00:00+00:00\", \"spotif...</td>\n",
       "      <td>{\"spotify-streams\": {\"value\": 3949, \"metric\": ...</td>\n",
       "    </tr>\n",
       "    <tr>\n",
       "      <th>1</th>\n",
       "      <td>1655ec20-f054-4a27-936a-4adf93af347c</td>\n",
       "      <td>Foreshadow</td>\n",
       "      <td>Pierre-François Blanchard &amp; Thomas Savy</td>\n",
       "      <td>2024-02-02T00:00:00+00:00</td>\n",
       "      <td>https://assets.soundcharts.com/song/4/5/0/1655...</td>\n",
       "      <td>[{\"date\": \"2024-04-29T00:00:00+00:00\", \"spotif...</td>\n",
       "      <td>{\"spotify-streams\": {\"value\": 1067, \"metric\": ...</td>\n",
       "    </tr>\n",
       "    <tr>\n",
       "      <th>2</th>\n",
       "      <td>d8a3791a-1f2a-41a6-8000-8125004975fa</td>\n",
       "      <td>Lullaby for Freedom</td>\n",
       "      <td>Pierre-François Blanchard &amp; Thomas Savy</td>\n",
       "      <td>2024-02-02T00:00:00+00:00</td>\n",
       "      <td>https://assets.soundcharts.com/song/a/2/f/d8a3...</td>\n",
       "      <td>[{\"date\": \"2024-04-29T00:00:00+00:00\", \"spotif...</td>\n",
       "      <td>{\"spotify-streams\": {\"value\": 1230, \"metric\": ...</td>\n",
       "    </tr>\n",
       "    <tr>\n",
       "      <th>3</th>\n",
       "      <td>9b773d19-3bc4-4c16-b831-5793d39b9e46</td>\n",
       "      <td>Afterglow</td>\n",
       "      <td>Pierre-François Blanchard</td>\n",
       "      <td>2024-02-02T00:00:00+00:00</td>\n",
       "      <td>https://assets.soundcharts.com/song/4/c/b/9b77...</td>\n",
       "      <td>[{\"date\": \"2024-04-29T00:00:00+00:00\", \"spotif...</td>\n",
       "      <td>{\"spotify-streams\": {\"value\": 1207, \"metric\": ...</td>\n",
       "    </tr>\n",
       "    <tr>\n",
       "      <th>4</th>\n",
       "      <td>6447b5a2-c495-4b6b-b867-2c38b842b9ed</td>\n",
       "      <td>Tempêtes</td>\n",
       "      <td>Pierre-François Blanchard &amp; Thomas Savy</td>\n",
       "      <td>2024-02-02T00:00:00+00:00</td>\n",
       "      <td>https://assets.soundcharts.com/song/5/9/4/6447...</td>\n",
       "      <td>[{\"date\": \"2024-04-29T00:00:00+00:00\", \"spotif...</td>\n",
       "      <td>{\"spotify-streams\": {\"value\": 2011, \"metric\": ...</td>\n",
       "    </tr>\n",
       "  </tbody>\n",
       "</table>\n",
       "</div>"
      ],
      "text/plain": [
       "                                song_id                title  \\\n",
       "0  3792d35a-7139-4a51-b479-c62b4fc0eeaf            Backtrack   \n",
       "1  1655ec20-f054-4a27-936a-4adf93af347c           Foreshadow   \n",
       "2  d8a3791a-1f2a-41a6-8000-8125004975fa  Lullaby for Freedom   \n",
       "3  9b773d19-3bc4-4c16-b831-5793d39b9e46            Afterglow   \n",
       "4  6447b5a2-c495-4b6b-b867-2c38b842b9ed             Tempêtes   \n",
       "\n",
       "                                    artist               release_date  \\\n",
       "0  Pierre-François Blanchard & Thomas Savy  2024-02-02T00:00:00+00:00   \n",
       "1  Pierre-François Blanchard & Thomas Savy  2024-02-02T00:00:00+00:00   \n",
       "2  Pierre-François Blanchard & Thomas Savy  2024-02-02T00:00:00+00:00   \n",
       "3                Pierre-François Blanchard  2024-02-02T00:00:00+00:00   \n",
       "4  Pierre-François Blanchard & Thomas Savy  2024-02-02T00:00:00+00:00   \n",
       "\n",
       "                                           image_url  \\\n",
       "0  https://assets.soundcharts.com/song/9/3/1/3792...   \n",
       "1  https://assets.soundcharts.com/song/4/5/0/1655...   \n",
       "2  https://assets.soundcharts.com/song/a/2/f/d8a3...   \n",
       "3  https://assets.soundcharts.com/song/4/c/b/9b77...   \n",
       "4  https://assets.soundcharts.com/song/5/9/4/6447...   \n",
       "\n",
       "                                          timeSeries  \\\n",
       "0  [{\"date\": \"2024-04-29T00:00:00+00:00\", \"spotif...   \n",
       "1  [{\"date\": \"2024-04-29T00:00:00+00:00\", \"spotif...   \n",
       "2  [{\"date\": \"2024-04-29T00:00:00+00:00\", \"spotif...   \n",
       "3  [{\"date\": \"2024-04-29T00:00:00+00:00\", \"spotif...   \n",
       "4  [{\"date\": \"2024-04-29T00:00:00+00:00\", \"spotif...   \n",
       "\n",
       "                                           summaries  \n",
       "0  {\"spotify-streams\": {\"value\": 3949, \"metric\": ...  \n",
       "1  {\"spotify-streams\": {\"value\": 1067, \"metric\": ...  \n",
       "2  {\"spotify-streams\": {\"value\": 1230, \"metric\": ...  \n",
       "3  {\"spotify-streams\": {\"value\": 1207, \"metric\": ...  \n",
       "4  {\"spotify-streams\": {\"value\": 2011, \"metric\": ...  "
      ]
     },
     "execution_count": 109,
     "metadata": {},
     "output_type": "execute_result"
    }
   ],
   "source": [
    "df.head()"
   ]
  },
  {
   "cell_type": "code",
   "execution_count": 110,
   "id": "a5a5fd94",
   "metadata": {},
   "outputs": [
    {
     "data": {
      "text/html": [
       "<div>\n",
       "<style scoped>\n",
       "    .dataframe tbody tr th:only-of-type {\n",
       "        vertical-align: middle;\n",
       "    }\n",
       "\n",
       "    .dataframe tbody tr th {\n",
       "        vertical-align: top;\n",
       "    }\n",
       "\n",
       "    .dataframe thead th {\n",
       "        text-align: right;\n",
       "    }\n",
       "</style>\n",
       "<table border=\"1\" class=\"dataframe\">\n",
       "  <thead>\n",
       "    <tr style=\"text-align: right;\">\n",
       "      <th></th>\n",
       "      <th>song_id</th>\n",
       "      <th>title</th>\n",
       "      <th>artist</th>\n",
       "      <th>release_date</th>\n",
       "      <th>image_url</th>\n",
       "      <th>timeSeries</th>\n",
       "      <th>summaries</th>\n",
       "    </tr>\n",
       "  </thead>\n",
       "  <tbody>\n",
       "    <tr>\n",
       "      <th>count</th>\n",
       "      <td>12320</td>\n",
       "      <td>12320</td>\n",
       "      <td>12320</td>\n",
       "      <td>12320</td>\n",
       "      <td>12320</td>\n",
       "      <td>12320</td>\n",
       "      <td>12319</td>\n",
       "    </tr>\n",
       "    <tr>\n",
       "      <th>unique</th>\n",
       "      <td>12291</td>\n",
       "      <td>11444</td>\n",
       "      <td>3378</td>\n",
       "      <td>1864</td>\n",
       "      <td>12291</td>\n",
       "      <td>9273</td>\n",
       "      <td>9206</td>\n",
       "    </tr>\n",
       "    <tr>\n",
       "      <th>top</th>\n",
       "      <td>be392f34-9b07-4e4e-94f5-d87c9adce103</td>\n",
       "      <td>Intro</td>\n",
       "      <td>Julien Girauld</td>\n",
       "      <td></td>\n",
       "      <td>https://assets.soundcharts.com/song/7/0/b/be39...</td>\n",
       "      <td>[]</td>\n",
       "      <td>{}</td>\n",
       "    </tr>\n",
       "    <tr>\n",
       "      <th>freq</th>\n",
       "      <td>2</td>\n",
       "      <td>10</td>\n",
       "      <td>100</td>\n",
       "      <td>575</td>\n",
       "      <td>2</td>\n",
       "      <td>2899</td>\n",
       "      <td>2899</td>\n",
       "    </tr>\n",
       "  </tbody>\n",
       "</table>\n",
       "</div>"
      ],
      "text/plain": [
       "                                     song_id  title          artist  \\\n",
       "count                                  12320  12320           12320   \n",
       "unique                                 12291  11444            3378   \n",
       "top     be392f34-9b07-4e4e-94f5-d87c9adce103  Intro  Julien Girauld   \n",
       "freq                                       2     10             100   \n",
       "\n",
       "       release_date                                          image_url  \\\n",
       "count         12320                                              12320   \n",
       "unique         1864                                              12291   \n",
       "top                  https://assets.soundcharts.com/song/7/0/b/be39...   \n",
       "freq            575                                                  2   \n",
       "\n",
       "       timeSeries summaries  \n",
       "count       12320     12319  \n",
       "unique       9273      9206  \n",
       "top            []        {}  \n",
       "freq         2899      2899  "
      ]
     },
     "execution_count": 110,
     "metadata": {},
     "output_type": "execute_result"
    }
   ],
   "source": [
    "df.describe()"
   ]
  },
  {
   "cell_type": "code",
   "execution_count": 111,
   "id": "a2767d7b",
   "metadata": {},
   "outputs": [
    {
     "data": {
      "text/plain": [
       "np.int64(15)"
      ]
     },
     "execution_count": 111,
     "metadata": {},
     "output_type": "execute_result"
    }
   ],
   "source": [
    "df.duplicated().sum()"
   ]
  },
  {
   "cell_type": "code",
   "execution_count": 112,
   "id": "494f698b",
   "metadata": {},
   "outputs": [],
   "source": [
    "df = df.drop_duplicates(subset=['song_id'])\n"
   ]
  },
  {
   "cell_type": "code",
   "execution_count": 113,
   "id": "4502788d",
   "metadata": {},
   "outputs": [],
   "source": [
    "df.drop(columns=['image_url'], inplace=True)"
   ]
  },
  {
   "cell_type": "code",
   "execution_count": 114,
   "id": "889dee81",
   "metadata": {},
   "outputs": [],
   "source": [
    "\n",
    "#pd.set_option('display.max_colwidth', None)\n",
    "\n",
    "#print(df.loc[[10], df.columns[-1]])\n"
   ]
  },
  {
   "cell_type": "code",
   "execution_count": 115,
   "id": "ac6f623b",
   "metadata": {},
   "outputs": [
    {
     "data": {
      "text/plain": [
       "song_id         0\n",
       "title           0\n",
       "artist          0\n",
       "release_date    0\n",
       "timeSeries      0\n",
       "summaries       1\n",
       "dtype: int64"
      ]
     },
     "execution_count": 115,
     "metadata": {},
     "output_type": "execute_result"
    }
   ],
   "source": [
    "df.isnull().sum()"
   ]
  },
  {
   "cell_type": "markdown",
   "id": "99e35350",
   "metadata": {},
   "source": [
    "DATA PREPARATION"
   ]
  },
  {
   "cell_type": "code",
   "execution_count": 116,
   "id": "ab1e6bab",
   "metadata": {},
   "outputs": [],
   "source": [
    "df = df.dropna(subset=['summaries'])"
   ]
  },
  {
   "cell_type": "code",
   "execution_count": 117,
   "id": "cf9e1d82",
   "metadata": {},
   "outputs": [
    {
     "data": {
      "text/html": [
       "<div>\n",
       "<style scoped>\n",
       "    .dataframe tbody tr th:only-of-type {\n",
       "        vertical-align: middle;\n",
       "    }\n",
       "\n",
       "    .dataframe tbody tr th {\n",
       "        vertical-align: top;\n",
       "    }\n",
       "\n",
       "    .dataframe thead th {\n",
       "        text-align: right;\n",
       "    }\n",
       "</style>\n",
       "<table border=\"1\" class=\"dataframe\">\n",
       "  <thead>\n",
       "    <tr style=\"text-align: right;\">\n",
       "      <th></th>\n",
       "      <th>song_id</th>\n",
       "      <th>title</th>\n",
       "      <th>artist</th>\n",
       "      <th>release_date</th>\n",
       "      <th>timeSeries</th>\n",
       "      <th>summaries</th>\n",
       "    </tr>\n",
       "  </thead>\n",
       "  <tbody>\n",
       "    <tr>\n",
       "      <th>0</th>\n",
       "      <td>3792d35a-7139-4a51-b479-c62b4fc0eeaf</td>\n",
       "      <td>Backtrack</td>\n",
       "      <td>Pierre-François Blanchard</td>\n",
       "      <td>2024-02-02T00:00:00+00:00</td>\n",
       "      <td>[{\"date\": \"2024-04-29T00:00:00+00:00\", \"spotif...</td>\n",
       "      <td>{\"spotify-streams\": {\"value\": 3949, \"metric\": ...</td>\n",
       "    </tr>\n",
       "    <tr>\n",
       "      <th>0</th>\n",
       "      <td>3792d35a-7139-4a51-b479-c62b4fc0eeaf</td>\n",
       "      <td>Backtrack</td>\n",
       "      <td>Thomas Savy</td>\n",
       "      <td>2024-02-02T00:00:00+00:00</td>\n",
       "      <td>[{\"date\": \"2024-04-29T00:00:00+00:00\", \"spotif...</td>\n",
       "      <td>{\"spotify-streams\": {\"value\": 3949, \"metric\": ...</td>\n",
       "    </tr>\n",
       "    <tr>\n",
       "      <th>1</th>\n",
       "      <td>1655ec20-f054-4a27-936a-4adf93af347c</td>\n",
       "      <td>Foreshadow</td>\n",
       "      <td>Pierre-François Blanchard</td>\n",
       "      <td>2024-02-02T00:00:00+00:00</td>\n",
       "      <td>[{\"date\": \"2024-04-29T00:00:00+00:00\", \"spotif...</td>\n",
       "      <td>{\"spotify-streams\": {\"value\": 1067, \"metric\": ...</td>\n",
       "    </tr>\n",
       "    <tr>\n",
       "      <th>1</th>\n",
       "      <td>1655ec20-f054-4a27-936a-4adf93af347c</td>\n",
       "      <td>Foreshadow</td>\n",
       "      <td>Thomas Savy</td>\n",
       "      <td>2024-02-02T00:00:00+00:00</td>\n",
       "      <td>[{\"date\": \"2024-04-29T00:00:00+00:00\", \"spotif...</td>\n",
       "      <td>{\"spotify-streams\": {\"value\": 1067, \"metric\": ...</td>\n",
       "    </tr>\n",
       "    <tr>\n",
       "      <th>2</th>\n",
       "      <td>d8a3791a-1f2a-41a6-8000-8125004975fa</td>\n",
       "      <td>Lullaby for Freedom</td>\n",
       "      <td>Pierre-François Blanchard</td>\n",
       "      <td>2024-02-02T00:00:00+00:00</td>\n",
       "      <td>[{\"date\": \"2024-04-29T00:00:00+00:00\", \"spotif...</td>\n",
       "      <td>{\"spotify-streams\": {\"value\": 1230, \"metric\": ...</td>\n",
       "    </tr>\n",
       "  </tbody>\n",
       "</table>\n",
       "</div>"
      ],
      "text/plain": [
       "                                song_id                title  \\\n",
       "0  3792d35a-7139-4a51-b479-c62b4fc0eeaf            Backtrack   \n",
       "0  3792d35a-7139-4a51-b479-c62b4fc0eeaf            Backtrack   \n",
       "1  1655ec20-f054-4a27-936a-4adf93af347c           Foreshadow   \n",
       "1  1655ec20-f054-4a27-936a-4adf93af347c           Foreshadow   \n",
       "2  d8a3791a-1f2a-41a6-8000-8125004975fa  Lullaby for Freedom   \n",
       "\n",
       "                      artist               release_date  \\\n",
       "0  Pierre-François Blanchard  2024-02-02T00:00:00+00:00   \n",
       "0                Thomas Savy  2024-02-02T00:00:00+00:00   \n",
       "1  Pierre-François Blanchard  2024-02-02T00:00:00+00:00   \n",
       "1                Thomas Savy  2024-02-02T00:00:00+00:00   \n",
       "2  Pierre-François Blanchard  2024-02-02T00:00:00+00:00   \n",
       "\n",
       "                                          timeSeries  \\\n",
       "0  [{\"date\": \"2024-04-29T00:00:00+00:00\", \"spotif...   \n",
       "0  [{\"date\": \"2024-04-29T00:00:00+00:00\", \"spotif...   \n",
       "1  [{\"date\": \"2024-04-29T00:00:00+00:00\", \"spotif...   \n",
       "1  [{\"date\": \"2024-04-29T00:00:00+00:00\", \"spotif...   \n",
       "2  [{\"date\": \"2024-04-29T00:00:00+00:00\", \"spotif...   \n",
       "\n",
       "                                           summaries  \n",
       "0  {\"spotify-streams\": {\"value\": 3949, \"metric\": ...  \n",
       "0  {\"spotify-streams\": {\"value\": 3949, \"metric\": ...  \n",
       "1  {\"spotify-streams\": {\"value\": 1067, \"metric\": ...  \n",
       "1  {\"spotify-streams\": {\"value\": 1067, \"metric\": ...  \n",
       "2  {\"spotify-streams\": {\"value\": 1230, \"metric\": ...  "
      ]
     },
     "execution_count": 117,
     "metadata": {},
     "output_type": "execute_result"
    }
   ],
   "source": [
    "# Copie\n",
    "df_artists = df.copy()\n",
    "\n",
    "# Convertir en liste\n",
    "df_artists['artist'] = df_artists['artist'].str.split('& ')\n",
    "\n",
    "# Explosion\n",
    "df_artists = df_artists.explode('artist')\n",
    "df_artists['artist'] = df_artists['artist'].str.strip()\n",
    "df_artists.head()"
   ]
  },
  {
   "cell_type": "code",
   "execution_count": 118,
   "id": "597da9c0",
   "metadata": {},
   "outputs": [],
   "source": [
    "df['release_date'] = pd.to_datetime(df['release_date'], errors='coerce')"
   ]
  },
  {
   "cell_type": "code",
   "execution_count": 119,
   "id": "9bfc4658",
   "metadata": {},
   "outputs": [],
   "source": [
    "df.loc[:, 'year'] = df['release_date'].dt.year"
   ]
  },
  {
   "cell_type": "code",
   "execution_count": 120,
   "id": "dfef2e72",
   "metadata": {},
   "outputs": [],
   "source": [
    "import json"
   ]
  },
  {
   "cell_type": "markdown",
   "id": "43d569df",
   "metadata": {},
   "source": [
    "PARSER LES COLONNES JSON pour extraire les données utiles "
   ]
  },
  {
   "cell_type": "code",
   "execution_count": null,
   "id": "578172d4",
   "metadata": {},
   "outputs": [],
   "source": [
    "import pandas as pd\n",
    "import json\n",
    "\n",
    "def extract_analysis_summaries(df):\n",
    "    rows = []\n",
    "    for idx, row in df.iterrows():\n",
    "        summary_json = row.get('summaries')\n",
    "        \n",
    "        # Cas vide ou nul\n",
    "        if pd.isna(summary_json) or not summary_json:\n",
    "            rows.append({\n",
    "                'spotify_streams_value': None,\n",
    "                'spotify_streams_evolution_1w': None,\n",
    "                'spotify_streams_evolution_28d': None,\n",
    "                'spotify_streams_evolution_1y': None,\n",
    "                'spotify_streams_percentEvolution_1w': None,\n",
    "                'spotify_streams_percentEvolution_28d': None,\n",
    "                'spotify_streams_percentEvolution_1y': None,\n",
    "                'spotify_popularity_value': None,\n",
    "                'spotify_popularity_evolution_1w': None,\n",
    "                'spotify_popularity_percentEvolution_1w': None,\n",
    "                'spotify_popularity_evolution_28d': None,\n",
    "                'spotify_popularity_percentEvolution_28d': None,\n",
    "                'firstDataPointDate': None,\n",
    "                'lastDataPointDate': None\n",
    "            })\n",
    "            continue\n",
    "\n",
    "        try:\n",
    "            summary = json.loads(summary_json)\n",
    "        except json.JSONDecodeError:\n",
    "            rows.append({\n",
    "                'spotify_streams_value': None,\n",
    "                'spotify_streams_evolution_1w': None,\n",
    "                'spotify_streams_evolution_28d': None,\n",
    "                'spotify_streams_evolution_1y': None,\n",
    "                'spotify_streams_percentEvolution_1w': None,\n",
    "                'spotify_streams_percentEvolution_28d': None,\n",
    "                'spotify_streams_percentEvolution_1y': None,\n",
    "                'spotify_popularity_value': None,\n",
    "                'spotify_popularity_evolution_1w': None,\n",
    "                'spotify_popularity_percentEvolution_1w': None,\n",
    "                'spotify_popularity_evolution_28d': None,\n",
    "                'spotify_popularity_percentEvolution_28d': None,\n",
    "                'firstDataPointDate': None,\n",
    "                'lastDataPointDate': None\n",
    "            })\n",
    "            continue\n",
    "\n",
    "        spotify_streams = summary.get('spotify-streams', {})\n",
    "        spotify_popularity = summary.get('spotify-popularity', {})\n",
    "\n",
    "        periods_streams = spotify_streams.get('periods', {})\n",
    "        periods_popularity = spotify_popularity.get('periods', {})\n",
    "\n",
    "        rows.append({\n",
    "            'spotify_streams_value': spotify_streams.get('value'),\n",
    "            'spotify_streams_evolution_1w': periods_streams.get('1w', {}).get('evolution'),\n",
    "            'spotify_streams_evolution_28d': periods_streams.get('28d', {}).get('evolution'),\n",
    "            'spotify_streams_evolution_1y': periods_streams.get('1y', {}).get('evolution'),\n",
    "            'spotify_streams_percentEvolution_1w': periods_streams.get('1w', {}).get('percentEvolution'),\n",
    "            'spotify_streams_percentEvolution_28d': periods_streams.get('28d', {}).get('percentEvolution'),\n",
    "            'spotify_streams_percentEvolution_1y': periods_streams.get('1y', {}).get('percentEvolution'),\n",
    "\n",
    "            'spotify_popularity_value': spotify_popularity.get('value'),\n",
    "            'spotify_popularity_evolution_1w': periods_popularity.get('1w', {}).get('evolution'),\n",
    "            'spotify_popularity_percentEvolution_1w': periods_popularity.get('1w', {}).get('percentEvolution'),\n",
    "            'spotify_popularity_evolution_28d': periods_popularity.get('28d', {}).get('evolution'),\n",
    "            'spotify_popularity_percentEvolution_28d': periods_popularity.get('28d', {}).get('percentEvolution'),\n",
    "\n",
    "            'firstDataPointDate': spotify_streams.get('firstDataPointDate') or spotify_popularity.get('firstDataPointDate'),\n",
    "            'lastDataPointDate': spotify_streams.get('lastDataPointDate') or spotify_popularity.get('lastDataPointDate')\n",
    "        })\n",
    "\n",
    "    extracted = pd.DataFrame(rows)\n",
    "    return pd.concat([\n",
    "        df[['song_id', 'title', 'artist', 'release_date', 'timeSeries']].reset_index(drop=True),\n",
    "        extracted\n",
    "    ], axis=1)\n"
   ]
  },
  {
   "cell_type": "code",
   "execution_count": null,
   "id": "967f0253",
   "metadata": {},
   "outputs": [
    {
     "name": "stdout",
     "output_type": "stream",
     "text": [
      "                                song_id                title  \\\n",
      "0  3792d35a-7139-4a51-b479-c62b4fc0eeaf            Backtrack   \n",
      "1  1655ec20-f054-4a27-936a-4adf93af347c           Foreshadow   \n",
      "2  d8a3791a-1f2a-41a6-8000-8125004975fa  Lullaby for Freedom   \n",
      "3  9b773d19-3bc4-4c16-b831-5793d39b9e46            Afterglow   \n",
      "4  6447b5a2-c495-4b6b-b867-2c38b842b9ed             Tempêtes   \n",
      "\n",
      "                                    artist              release_date  \\\n",
      "0  Pierre-François Blanchard & Thomas Savy 2024-02-02 00:00:00+00:00   \n",
      "1  Pierre-François Blanchard & Thomas Savy 2024-02-02 00:00:00+00:00   \n",
      "2  Pierre-François Blanchard & Thomas Savy 2024-02-02 00:00:00+00:00   \n",
      "3                Pierre-François Blanchard 2024-02-02 00:00:00+00:00   \n",
      "4  Pierre-François Blanchard & Thomas Savy 2024-02-02 00:00:00+00:00   \n",
      "\n",
      "                                          timeSeries  spotify_streams_value  \\\n",
      "0  [{\"date\": \"2024-04-29T00:00:00+00:00\", \"spotif...                 3949.0   \n",
      "1  [{\"date\": \"2024-04-29T00:00:00+00:00\", \"spotif...                 1067.0   \n",
      "2  [{\"date\": \"2024-04-29T00:00:00+00:00\", \"spotif...                 1230.0   \n",
      "3  [{\"date\": \"2024-04-29T00:00:00+00:00\", \"spotif...                 1207.0   \n",
      "4  [{\"date\": \"2024-04-29T00:00:00+00:00\", \"spotif...                 2011.0   \n",
      "\n",
      "   spotify_streams_percentEvolution_28d  spotify_streams_percentEvolution_1w  \\\n",
      "0                              2.999478                             1.282380   \n",
      "1                              2.399232                             0.946074   \n",
      "2                              1.736973                             0.737101   \n",
      "3                              2.548853                             1.258389   \n",
      "4                              2.811861                             0.903161   \n",
      "\n",
      "   spotify_popularity_value  spotify_popularity_percentEvolution_28d  \\\n",
      "0                       3.0                                      0.0   \n",
      "1                       1.0                                      0.0   \n",
      "2                       1.0                                      0.0   \n",
      "3                       1.0                                      0.0   \n",
      "4                       2.0                                      0.0   \n",
      "\n",
      "   spotify_popularity_percentEvolution_1w          lastDataPointDate  \n",
      "0                                     0.0  2025-05-19T00:00:00+00:00  \n",
      "1                                     0.0  2025-05-19T00:00:00+00:00  \n",
      "2                                     0.0  2025-05-19T00:00:00+00:00  \n",
      "3                                     0.0  2025-05-19T00:00:00+00:00  \n",
      "4                                     0.0  2025-05-19T00:00:00+00:00  \n"
     ]
    }
   ],
   "source": [
    "df_summarie_pars = extract_analysis_summaries(df)\n",
    "print(df_summarie_pars.head())"
   ]
  },
  {
   "cell_type": "code",
   "execution_count": 123,
   "id": "7a230ad2",
   "metadata": {},
   "outputs": [
    {
     "data": {
      "text/plain": [
       "Index(['song_id', 'title', 'artist', 'release_date', 'timeSeries',\n",
       "       'spotify_streams_value', 'spotify_streams_percentEvolution_28d',\n",
       "       'spotify_streams_percentEvolution_1w', 'spotify_popularity_value',\n",
       "       'spotify_popularity_percentEvolution_28d',\n",
       "       'spotify_popularity_percentEvolution_1w', 'lastDataPointDate'],\n",
       "      dtype='object')"
      ]
     },
     "execution_count": 123,
     "metadata": {},
     "output_type": "execute_result"
    }
   ],
   "source": [
    "df_summarie_pars.columns"
   ]
  },
  {
   "cell_type": "code",
   "execution_count": 124,
   "id": "ec7b015f",
   "metadata": {},
   "outputs": [],
   "source": [
    "import pandas as pd\n",
    "import json\n",
    "\n",
    "def extract_time_series(df, col_time_series):\n",
    "    \"\"\"\n",
    "    Extrait les informations importantes du champ JSON timeSeries d'un DataFrame.\n",
    "\n",
    "    Args:\n",
    "        df (pd.DataFrame): DataFrame contenant une colonne avec les données JSON.\n",
    "        col_time_series (str): Nom de la colonne contenant la chaîne JSON.\n",
    "\n",
    "    Returns:\n",
    "        pd.DataFrame: DataFrame avec colonnes ['id_ligne', 'date', 'spotify_streams', 'spotify_popularity'].\n",
    "    \"\"\"\n",
    "    all_rows = []\n",
    "\n",
    "    for idx, json_str in df[col_time_series].items():\n",
    "        if pd.isna(json_str) or json_str == '':\n",
    "            continue\n",
    "        try:\n",
    "            data_list = json.loads(json_str)\n",
    "            if isinstance(data_list, list):\n",
    "                for entry in data_list:\n",
    "                    all_rows.append({\n",
    "                        \"id_ligne\": idx,\n",
    "                        \"date\": entry.get(\"date\"),\n",
    "                        \"spotify_streams\": entry.get(\"spotify-streams\"),\n",
    "                        \"spotify_popularity\": entry.get(\"spotify-popularity\", None)\n",
    "                    })\n",
    "            else:\n",
    "                print(f\"Contenu inattendu à la ligne {idx} : {type(data_list)}\")\n",
    "        except Exception as e:\n",
    "            print(f\"Erreur au parsing JSON à la ligne {idx}: {e}\")\n",
    "            continue\n",
    "\n",
    "    result_df = pd.DataFrame(all_rows)\n",
    "    return result_df\n"
   ]
  },
  {
   "cell_type": "code",
   "execution_count": 125,
   "id": "b3352442",
   "metadata": {},
   "outputs": [
    {
     "name": "stdout",
     "output_type": "stream",
     "text": [
      "         id_ligne                       date  spotify_streams  \\\n",
      "0               0  2024-04-29T00:00:00+00:00           2398.0   \n",
      "1               0  2024-04-30T00:00:00+00:00           2404.0   \n",
      "2               0  2024-05-01T00:00:00+00:00           2414.0   \n",
      "3               0  2024-05-02T00:00:00+00:00           2417.0   \n",
      "4               0  2024-05-03T00:00:00+00:00           2428.0   \n",
      "...           ...                        ...              ...   \n",
      "2823024     12318  2025-05-20T00:00:00+00:00          93237.0   \n",
      "2823025     12318  2025-05-21T00:00:00+00:00          93270.0   \n",
      "2823026     12318  2025-05-22T00:00:00+00:00          93311.0   \n",
      "2823027     12318  2025-05-23T00:00:00+00:00          93332.0   \n",
      "2823028     12318  2025-05-24T00:00:00+00:00          93369.0   \n",
      "\n",
      "         spotify_popularity  \n",
      "0                       8.0  \n",
      "1                       8.0  \n",
      "2                       8.0  \n",
      "3                       8.0  \n",
      "4                       8.0  \n",
      "...                     ...  \n",
      "2823024                15.0  \n",
      "2823025                15.0  \n",
      "2823026                15.0  \n",
      "2823027                15.0  \n",
      "2823028                15.0  \n",
      "\n",
      "[2823029 rows x 4 columns]\n"
     ]
    }
   ],
   "source": [
    "df_time_series = extract_time_series(df, 'timeSeries')\n",
    "print(df_time_series.head(2823029))"
   ]
  },
  {
   "cell_type": "code",
   "execution_count": 126,
   "id": "8c3b7709",
   "metadata": {},
   "outputs": [
    {
     "data": {
      "text/plain": [
       "(2823029, 4)"
      ]
     },
     "execution_count": 126,
     "metadata": {},
     "output_type": "execute_result"
    }
   ],
   "source": [
    "df_time_series.shape"
   ]
  },
  {
   "cell_type": "code",
   "execution_count": 127,
   "id": "255f1910",
   "metadata": {},
   "outputs": [
    {
     "name": "stdout",
     "output_type": "stream",
     "text": [
      "Plage des valeurs : 98.0\n"
     ]
    }
   ],
   "source": [
    "verif = df_time_series['spotify_popularity'].max()\n",
    "\n",
    "print(f\"Plage des valeurs : {verif}\")"
   ]
  },
  {
   "cell_type": "code",
   "execution_count": 128,
   "id": "b41915df",
   "metadata": {},
   "outputs": [
    {
     "data": {
      "text/plain": [
       "(0, 4)"
      ]
     },
     "execution_count": 128,
     "metadata": {},
     "output_type": "execute_result"
    }
   ],
   "source": [
    "df_time_series[df_time_series['spotify_popularity'] < 0].shape"
   ]
  },
  {
   "cell_type": "code",
   "execution_count": 129,
   "id": "251579af",
   "metadata": {},
   "outputs": [
    {
     "data": {
      "text/plain": [
       "np.int64(335940)"
      ]
     },
     "execution_count": 129,
     "metadata": {},
     "output_type": "execute_result"
    }
   ],
   "source": [
    "df_time_series['spotify_popularity'].isna().sum()"
   ]
  },
  {
   "cell_type": "code",
   "execution_count": null,
   "id": "4db4832f",
   "metadata": {},
   "outputs": [],
   "source": []
  }
 ],
 "metadata": {
  "kernelspec": {
   "display_name": "Python 3",
   "language": "python",
   "name": "python3"
  },
  "language_info": {
   "codemirror_mode": {
    "name": "ipython",
    "version": 3
   },
   "file_extension": ".py",
   "mimetype": "text/x-python",
   "name": "python",
   "nbconvert_exporter": "python",
   "pygments_lexer": "ipython3",
   "version": "3.11.3"
  }
 },
 "nbformat": 4,
 "nbformat_minor": 5
}
